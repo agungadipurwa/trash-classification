{
 "cells": [
  {
   "cell_type": "markdown",
   "metadata": {},
   "source": [
    "### LIBRARY AND INTINIALIZATION"
   ]
  },
  {
   "cell_type": "code",
   "execution_count": 6,
   "metadata": {},
   "outputs": [],
   "source": [
    "import PIL\n",
    "import pandas as pd\n",
    "import datasets\n",
    "from dotenv import load_dotenv\n",
    "import os\n",
    "import sys\n",
    "import wandb\n",
    "import urllib\n",
    "import zipfile"
   ]
  },
  {
   "cell_type": "code",
   "execution_count": null,
   "metadata": {},
   "outputs": [],
   "source": [
    "ds = datasets.load_dataset(\"garythung/trashnet\", split=datasets.ReadInstruction(\"train\", from_=2527, to=5054, unit=\"abs\"))"
   ]
  },
  {
   "cell_type": "markdown",
   "metadata": {},
   "source": [
    "### CREATE PATH .ENV"
   ]
  },
  {
   "cell_type": "code",
   "execution_count": null,
   "metadata": {},
   "outputs": [],
   "source": [
    "# PATH = {\n",
    "#     \"DATA_URL\":\"https://huggingface.co/datasets/garythung/trashnet/resolve/main/dataset-resized.zip\",\n",
    "#     \"WANDB_API_KEY\": \"API_KEY\", #write your wandb api key here\n",
    "#     \"DATASET_DICT\": \"data\\dataset-resized\"\n",
    "# }"
   ]
  },
  {
   "cell_type": "code",
   "execution_count": null,
   "metadata": {},
   "outputs": [],
   "source": [
    "# f = open(\".env\", \"w\")\n",
    "# for key in PATH.keys():\n",
    "#     f.write(f\"{key}={PATH[key]}\\n\")\n",
    "# f.close()\n"
   ]
  },
  {
   "cell_type": "markdown",
   "metadata": {},
   "source": [
    "### CREATE ARTIFACTS: DATASETS VERSIONING"
   ]
  },
  {
   "cell_type": "code",
   "execution_count": 2,
   "metadata": {},
   "outputs": [
    {
     "data": {
      "text/plain": [
       "True"
      ]
     },
     "execution_count": 2,
     "metadata": {},
     "output_type": "execute_result"
    }
   ],
   "source": [
    "load_dotenv()"
   ]
  },
  {
   "cell_type": "code",
   "execution_count": 4,
   "metadata": {},
   "outputs": [
    {
     "name": "stdout",
     "output_type": "stream",
     "text": [
      ".env file found and environment variables are loaded.\n"
     ]
    }
   ],
   "source": [
    "try:\n",
    "    from dotenv import load_dotenv\n",
    "except ImportError:\n",
    "    print(\"python-dotenv is not installed. Please install it by running:\")\n",
    "    print(\"pip install python-dotenv\")\n",
    "    sys.exit(1)\n",
    "\n",
    "def check_env_file():\n",
    "    \"\"\"\n",
    "    Attempt to load environment variables from a .env file.\n",
    "    Returns True if .env was found and successfully loaded,\n",
    "    otherwise returns False.\n",
    "    \"\"\"\n",
    "    # load_dotenv() returns True if at least one environment variable\n",
    "    # was set, or if the .env file was found. Otherwise, returns False.\n",
    "    return load_dotenv()\n",
    "\n",
    "if check_env_file():\n",
    "    print(\".env file found and environment variables are loaded.\")\n",
    "else:\n",
    "    print(\"No .env file found or environment variables were not set.\")\n",
    "\n",
    "# Check if specific variables are set\n",
    "data_url = os.getenv(\"DATA_URL\")\n",
    "wandb_api_key = os.getenv(\"WANDB_API_KEY\")\n",
    "dataset_dict = os.getenv(\"DATASET_DICT\")\n",
    "artifact_dir = os.getenv(\"ARTIFACT_DIR\")\n",
    "\n",
    "if not data_url:\n",
    "    print(\"WARNING: DATA_URL not set.\")\n",
    "    sys.exit(1)    \n",
    "if not wandb_api_key:\n",
    "    print(\"WARNING: WANDB_API not set.\")\n",
    "    sys.exit(1)\n",
    "if not dataset_dict:\n",
    "    print(\"WARNING: DATASET_DICT not set.\")\n",
    "    sys.exit(1)\n",
    "if not artifact_dir:\n",
    "    print(\"WARNING: ARTIFACT_DIR not set.\")\n",
    "    sys.exit(1)\n"
   ]
  },
  {
   "cell_type": "code",
   "execution_count": null,
   "metadata": {},
   "outputs": [],
   "source": [
    "urllib.request.urlretrieve(data_url, 'dataset-resized.zip')\n",
    "local_file = 'dataset-resized.zip'\n",
    "zip_ref = zipfile.ZipFile(local_file, 'r')\n",
    "zip_ref.extractall('data/')\n",
    "zip_ref.close()"
   ]
  },
  {
   "cell_type": "code",
   "execution_count": 9,
   "metadata": {},
   "outputs": [],
   "source": [
    "data_path = os.path.join(os.getcwd(),dataset_dict)"
   ]
  },
  {
   "cell_type": "code",
   "execution_count": 10,
   "metadata": {},
   "outputs": [
    {
     "data": {
      "text/plain": [
       "'c:\\\\D\\\\Internship\\\\Adamata\\\\trash-classification\\\\data\\\\dataset-resized'"
      ]
     },
     "execution_count": 10,
     "metadata": {},
     "output_type": "execute_result"
    }
   ],
   "source": [
    "data_path"
   ]
  },
  {
   "cell_type": "code",
   "execution_count": null,
   "metadata": {},
   "outputs": [],
   "source": [
    "wandb.login(key=wandb_api_key,relogin=True)"
   ]
  },
  {
   "cell_type": "code",
   "execution_count": null,
   "metadata": {},
   "outputs": [],
   "source": [
    "run = wandb.init(\n",
    "    project=\"trashnet-classification\",\n",
    "    entity=\"agungadipurwa_\" ,\n",
    "    job_type=\"build_dataset\")"
   ]
  },
  {
   "cell_type": "code",
   "execution_count": null,
   "metadata": {},
   "outputs": [],
   "source": [
    "artifact_name = \"{}_dataset\".format(\"trashnet\")\n",
    "artifact = wandb.Artifact(artifact_name, type=\"dataset\")\n",
    "artifact.add_dir(data_path)\n",
    "artifact.save()\n",
    "run.finish()"
   ]
  },
  {
   "cell_type": "code",
   "execution_count": null,
   "metadata": {},
   "outputs": [],
   "source": [
    "#create new path for .env and change with you artifact name\n",
    "# PATH[\"ARTIFACT_DIR\"] = \"artifacts\\trashnet_dataset-v0\""
   ]
  },
  {
   "cell_type": "code",
   "execution_count": null,
   "metadata": {},
   "outputs": [],
   "source": [
    "# f = open(\".env\", \"w\")\n",
    "# for key in PATH.keys():\n",
    "#     f.write(f\"{key}={PATH[key]}\\n\")\n",
    "# f.close()"
   ]
  }
 ],
 "metadata": {
  "kernelspec": {
   "display_name": "env",
   "language": "python",
   "name": "python3"
  },
  "language_info": {
   "codemirror_mode": {
    "name": "ipython",
    "version": 3
   },
   "file_extension": ".py",
   "mimetype": "text/x-python",
   "name": "python",
   "nbconvert_exporter": "python",
   "pygments_lexer": "ipython3",
   "version": "3.10.11"
  }
 },
 "nbformat": 4,
 "nbformat_minor": 2
}
