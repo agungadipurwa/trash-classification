{
 "cells": [
  {
   "cell_type": "markdown",
   "metadata": {},
   "source": [
    "### LIBRARY AND INTINIALIZATION"
   ]
  },
  {
   "cell_type": "code",
   "execution_count": 6,
   "metadata": {},
   "outputs": [],
   "source": [
    "import PIL\n",
    "import pandas as pd\n",
    "import datasets\n",
    "from dotenv import load_dotenv\n",
    "import os\n",
    "import wandb"
   ]
  },
  {
   "cell_type": "code",
   "execution_count": null,
   "metadata": {},
   "outputs": [],
   "source": [
    "ds = datasets.load_dataset(\"garythung/trashnet\", split=datasets.ReadInstruction(\"train\", from_=2527, to=5054, unit=\"abs\"))"
   ]
  },
  {
   "cell_type": "markdown",
   "metadata": {},
   "source": [
    "### CREATE PATH .ENV"
   ]
  },
  {
   "cell_type": "code",
   "execution_count": null,
   "metadata": {},
   "outputs": [],
   "source": [
    "PATH = {\n",
    "    \"DATA_URL\":\"https://huggingface.co/datasets/garythung/trashnet/resolve/main/dataset-resized.zip\",\n",
    "    \"WANDB_API_KEY\": \"[API_KEY]\", #write your wandb api key here\n",
    "    \"DATASET_DICT\": \"data\\dataset-resized\",\n",
    "}"
   ]
  },
  {
   "cell_type": "code",
   "execution_count": null,
   "metadata": {},
   "outputs": [],
   "source": [
    "f = open(\".env\", \"w\")\n",
    "for key in PATH.keys():\n",
    "    f.write(f\"{key}={PATH[key]}\\n\")\n",
    "f.close()\n"
   ]
  },
  {
   "cell_type": "markdown",
   "metadata": {},
   "source": [
    "### CREATE ARTIFACTS: DATASETS VERSIONING"
   ]
  },
  {
   "cell_type": "code",
   "execution_count": null,
   "metadata": {},
   "outputs": [],
   "source": [
    "load_dotenv()"
   ]
  },
  {
   "cell_type": "code",
   "execution_count": 9,
   "metadata": {},
   "outputs": [],
   "source": [
    "data_path = os.path.join(os.getcwd(),os.getenv(\"DATASET_DICT\"))"
   ]
  },
  {
   "cell_type": "code",
   "execution_count": 10,
   "metadata": {},
   "outputs": [
    {
     "data": {
      "text/plain": [
       "'c:\\\\D\\\\Internship\\\\Adamata\\\\trash-classification\\\\data\\\\dataset-resized'"
      ]
     },
     "execution_count": 10,
     "metadata": {},
     "output_type": "execute_result"
    }
   ],
   "source": [
    "data_path"
   ]
  },
  {
   "cell_type": "code",
   "execution_count": null,
   "metadata": {},
   "outputs": [],
   "source": [
    "wandb.login(key=os.getenv(\"WANDB_API_KEY\"),relogin=True)"
   ]
  },
  {
   "cell_type": "code",
   "execution_count": null,
   "metadata": {},
   "outputs": [],
   "source": [
    "run = wandb.init(\n",
    "    project=\"trashnet-classification\",\n",
    "    entity=\"agungadipurwa_\" ,\n",
    "    job_type=\"build_dataset\")"
   ]
  },
  {
   "cell_type": "code",
   "execution_count": null,
   "metadata": {},
   "outputs": [],
   "source": [
    "artifact_name = \"{}_dataset\".format(\"trashnet\")\n",
    "artifact = wandb.Artifact(artifact_name, type=\"dataset\")\n",
    "artifact.add_dir(data_path)\n",
    "artifact.save()\n",
    "run.finish()"
   ]
  },
  {
   "cell_type": "code",
   "execution_count": null,
   "metadata": {},
   "outputs": [],
   "source": [
    "#create new path for .env\n",
    "PATH[\"ARTIFACT_DIR\"] = \"artifacts\\trashnet_dataset-v0\""
   ]
  },
  {
   "cell_type": "code",
   "execution_count": null,
   "metadata": {},
   "outputs": [],
   "source": [
    "f = open(\".env\", \"w\")\n",
    "for key in PATH.keys():\n",
    "    f.write(f\"{key}={PATH[key]}\\n\")\n",
    "f.close()"
   ]
  }
 ],
 "metadata": {
  "kernelspec": {
   "display_name": "env",
   "language": "python",
   "name": "python3"
  },
  "language_info": {
   "codemirror_mode": {
    "name": "ipython",
    "version": 3
   },
   "file_extension": ".py",
   "mimetype": "text/x-python",
   "name": "python",
   "nbconvert_exporter": "python",
   "pygments_lexer": "ipython3",
   "version": "3.10.11"
  }
 },
 "nbformat": 4,
 "nbformat_minor": 2
}
